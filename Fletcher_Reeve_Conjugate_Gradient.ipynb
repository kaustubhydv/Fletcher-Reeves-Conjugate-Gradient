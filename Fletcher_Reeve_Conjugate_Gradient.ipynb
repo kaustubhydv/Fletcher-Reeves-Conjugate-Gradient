{
  "nbformat": 4,
  "nbformat_minor": 0,
  "metadata": {
    "colab": {
      "provenance": [],
      "authorship_tag": "ABX9TyOMiFWoTm08iZ6x1S7LnK32",
      "include_colab_link": true
    },
    "kernelspec": {
      "name": "python3",
      "display_name": "Python 3"
    },
    "language_info": {
      "name": "python"
    }
  },
  "cells": [
    {
      "cell_type": "markdown",
      "metadata": {
        "id": "view-in-github",
        "colab_type": "text"
      },
      "source": [
        "<a href=\"https://colab.research.google.com/github/kaustubhydv/Fletcher-Reeves-Conjugate-Gradient/blob/main/Fletcher_Reeve_Conjugate_Gradient.ipynb\" target=\"_parent\"><img src=\"https://colab.research.google.com/assets/colab-badge.svg\" alt=\"Open In Colab\"/></a>"
      ]
    },
    {
      "cell_type": "code",
      "execution_count": null,
      "metadata": {
        "id": "gjLsB_E4BgDY"
      },
      "outputs": [],
      "source": [
        "import numpy as np\n",
        "import math\n",
        "from numpy.linalg import inv,det\n",
        "import matplotlib.pyplot as plt\n",
        "import copy\n",
        "import matplotlib.pyplot as plt\n",
        "\n",
        "\n",
        "epsilon = 10**-6\n",
        "NUM_ITER = 15000\n",
        "x_history = []\n",
        "\n",
        "\n",
        "rho = 0.8\n",
        "c = 0.1\n",
        "alpha0 = 5"
      ]
    },
    {
      "cell_type": "code",
      "source": [
        "def func(x_input):\n",
        "    \"\"\"\n",
        "    --------------------------------------------------------\n",
        "    Write your logic to evaluate the function value. \n",
        "\n",
        "    Input parameters:\n",
        "        x: input column vector (a numpy array of n dimension)\n",
        "\n",
        "    Returns:\n",
        "        y : Value of the function given in the problem at x.\n",
        "        \n",
        "    --------------------------------------------------------\n",
        "    \"\"\"\n",
        "    \n",
        "    # Start your code here\n",
        "    \n",
        "    y = x_input[0]**2 + x_input[1]**2 + (0.5*x_input[0] + x_input[1])**2 + (0.5*x_input[0] + x_input[1])**4 \n",
        "    #y =  (x_input[0]-1)**2 + (x_input[1]-1)**2 - x_input[0]*x_input[1]\n",
        "    # End your code here\n",
        "    \n",
        "    return y"
      ],
      "metadata": {
        "id": "6tcl_CXWgPSF"
      },
      "execution_count": null,
      "outputs": []
    },
    {
      "cell_type": "code",
      "source": [
        "def norm(vec):\n",
        "  return (vec[0]**2 + vec[1]**2)**0.5\n",
        "\n",
        "def del_f_delxj(f,j,x_star,h=0.001):\n",
        "  ej = np.zeros(x_star.shape[0])\n",
        "  ej[j] = 1\n",
        "  return (f(x_star+h*ej) - f(x_star-h*ej))/(2*h)\n",
        "\n",
        "def gradient(f,x_input):\n",
        "  x_star = np.asarray(x_input)\n",
        "  return np.asarray([del_f_delxj(f,j,x_star) for j in range(x_star.shape[0])])\n",
        "\n",
        "\n",
        "def del2f_delxi2(f,x_star,i,delxi=0.001):\n",
        "  x_starp = np.copy(x_star)\n",
        "  x_starp[i] = x_starp[i] + delxi\n",
        "  x_starm = np.copy(x_star)\n",
        "  x_starm[i] = x_starm[i] - delxi\n",
        "  return (f(x_starp)-2*f(x_star)+f(x_starm))/(delxi**2)\n",
        "  \n",
        "\n",
        "def del2f_delxixj(f,x_star,i,j,delxi=0.001,delxj=0.001):\n",
        "  x_starA = np.copy(x_star)\n",
        "  x_starA[i] += delxi\n",
        "  x_starA[j] += delxj \n",
        "  \n",
        "  x_starB = np.copy(x_star)\n",
        "  x_starB[i] -= delxi\n",
        "  x_starB[j] -= delxj \n",
        "  \n",
        "  x_starC = np.copy(x_star)\n",
        "  x_starC[i] -= delxi\n",
        "  x_starC[j] += delxj \n",
        "  \n",
        "  x_starD = np.copy(x_star)\n",
        "  x_starD[i] += delxi\n",
        "  x_starD[j] -= delxj \n",
        "\n",
        "  A = f(x_starA)\n",
        "  B = f(x_starB)\n",
        "  C = f(x_starC)\n",
        "  D = f(x_starD)\n",
        "\n",
        "  return (A+B-C-D)/(4*delxi*delxj)\n",
        "\n",
        "\n",
        "\n",
        "\n",
        "def getAlpha(xk,func,alpha0,rho,c,pk):\n",
        "  alpha = alpha0\n",
        "  g = np.asarray(gradient(func,xk))\n",
        "  #pk = -np.asarray(g)\n",
        "  while (func(xk+ alpha*pk)) > func(xk) + alpha*c*np.dot(g,pk):\n",
        "    alpha = rho*alpha\n",
        "  return alpha"
      ],
      "metadata": {
        "id": "NvHq6Mi1BlIs"
      },
      "execution_count": null,
      "outputs": []
    },
    {
      "cell_type": "code",
      "source": [
        "def FRCG(func, x_initial):\n",
        "    \"\"\"\n",
        "    -----------------------------------------------------------------------------------------------------------------------------\n",
        "    Write your logic for FR-CG using in-exact line search. \n",
        "\n",
        "    Input parameters:  \n",
        "        func : input function to be evaluated\n",
        "        x_initial: initial value of x, a column vector (numpy array)\n",
        "\n",
        "    Returns:\n",
        "        x_output : converged x value, a column vector (numpy array)\n",
        "        f_output : value of f at x_output\n",
        "        grad_output : value of gradient at x_output, a column vector(numpy array)\n",
        "    -----------------------------------------------------------------------------------------------------------------------------\n",
        "    \"\"\"\n",
        "    \n",
        "    # Start your code here\n",
        "\n",
        "    x = x_initial.T[0]\n",
        "    x_history.append(x)\n",
        "    f = func(x)\n",
        "    g = gradient(func,x)\n",
        "    alpha0 = 5\n",
        "    p = -gradient(func,x)\n",
        "    k=0\n",
        "    beta = None\n",
        "    while norm(gradient(func,x_history[-1]))**2 > epsilon and k < NUM_ITER:\n",
        "      alpha = getAlpha(x_history[-1],func,alpha0,rho,c,p)\n",
        "      gradxk = gradient(func,x_history[-1])\n",
        "      xk = x_history[-1] + alpha*p\n",
        "      x_history.append(xk)\n",
        "      grad_xk1 = gradient(func,x_history[-1])\n",
        "      beta = np.dot(grad_xk1,grad_xk1)/np.dot(gradxk,gradxk)\n",
        "      p = -gradient(func,x_history[-1]) + beta*p \n",
        "      k += 1\n",
        "    # End your code here\n",
        "    \n",
        "    if k==NUM_ITER:\n",
        "      print('Maximum iterations reached but convergence did not happen \\n')\n",
        "    \n",
        "    x_output = np.asarray([x_history[-1]]).T\n",
        "    f_output = func(x_output)\n",
        "    grad_output = np.asarray([gradient(func,x_history[-1])]).T\n",
        "\n",
        "    print(x_output, f_output, grad_output)\n",
        "    return x_output, f_output, grad_output.T\n",
        "\n",
        "\n"
      ],
      "metadata": {
        "id": "R32A6uHcgtsu"
      },
      "execution_count": null,
      "outputs": []
    },
    {
      "cell_type": "code",
      "source": [
        "\n",
        "x_initial = np.array([[1.5, 1.5]]).T\n",
        "x_output, f_output, grad_output = FRCG(func, x_initial)\n"
      ],
      "metadata": {
        "colab": {
          "base_uri": "https://localhost:8080/"
        },
        "id": "HYXe4V7plOkC",
        "outputId": "ae56529f-3bea-47b0-a04f-9f40217ba570"
      },
      "execution_count": null,
      "outputs": [
        {
          "output_type": "stream",
          "name": "stdout",
          "text": [
            "[[ 0.00027155]\n",
            " [-0.00018297]] [1.0944655e-07] [[ 0.00049591]\n",
            " [-0.00046034]]\n"
          ]
        }
      ]
    },
    {
      "cell_type": "code",
      "source": [
        "fig, axis = plt.subplots(2, 1)\n",
        "fig.set_figheight(10)\n",
        "fig.set_figwidth(6)\n",
        "x1 = [x[0] for x in x_history]\n",
        "x2 = [x[1] for x in x_history]\n",
        "f = [func(x) for x in x_history ]\n",
        "axis[0].plot(x1,label='x1')\n",
        "axis[0].plot(x2,label='x2')\n",
        "axis[0].set_xlabel('Number of Iterattions')\n",
        "axis[0].set_title('X1 and X2 vs number of iterations')\n",
        "axis[0].legend()\n",
        "\n",
        "axis[1].set_xlabel('Number of Iterattions')\n",
        "axis[1].set_title('Value of Function vs number of iterations')\n",
        "axis[1].plot(f,label='Function')\n",
        "axis[1].legend()\n",
        "plt.show()"
      ],
      "metadata": {
        "colab": {
          "base_uri": "https://localhost:8080/",
          "height": 621
        },
        "id": "FBok9tccpWwq",
        "outputId": "5d913f5b-1b31-432c-f965-165dd01022c5"
      },
      "execution_count": null,
      "outputs": [
        {
          "output_type": "display_data",
          "data": {
            "text/plain": [
              "<Figure size 432x720 with 2 Axes>"
            ],
            "image/png": "[encoded data removed]"
          },
          "metadata": {
            "needs_background": "light"
          }
        }
      ]
    },
    {
      "cell_type": "code",
      "source": [],
      "metadata": {
        "colab": {
          "base_uri": "https://localhost:8080/",
          "height": 313
        },
        "id": "QNq4jKffpx53",
        "outputId": "aec7ab9d-d90c-4fea-b4ba-a65cad6c6a3e"
      },
      "execution_count": null,
      "outputs": [
        {
          "output_type": "execute_result",
          "data": {
            "text/plain": [
              "<matplotlib.legend.Legend at 0x7f777b8920d0>"
            ]
          },
          "metadata": {},
          "execution_count": 66
        },
        {
          "output_type": "display_data",
          "data": {
            "text/plain": [
              "<Figure size 432x288 with 1 Axes>"
            ],
            "image/png": "[encoded data removed]"
          },
          "metadata": {
            "needs_background": "light"
          }
        }
      ]
    },
    {
      "cell_type": "code",
      "source": [],
      "metadata": {
        "id": "JHC_7qBMrhLT"
      },
      "execution_count": null,
      "outputs": []
    }
  ]
}